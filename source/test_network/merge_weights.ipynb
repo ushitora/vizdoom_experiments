{
 "cells": [
  {
   "cell_type": "code",
   "execution_count": null,
   "metadata": {},
   "outputs": [],
   "source": [
    "import tensorflow as tf\n",
    "import numpy as np"
   ]
  },
  {
   "cell_type": "code",
   "execution_count": null,
   "metadata": {},
   "outputs": [],
   "source": [
    "WEIGHT_PREDICT_RISKSUICIDE_DIR = \"./weights_suicide/\"\n",
    "WEIGHT_PREDICT_ENEMYPOS_DIR = \"./weights_enemypos/\""
   ]
  },
  {
   "cell_type": "code",
   "execution_count": null,
   "metadata": {},
   "outputs": [],
   "source": [
    "weights_suicide = np.load(WEIGHT_PREDICT_RISKSUICIDE_DIR+\"conv1_kernel.npy\")\n",
    "weights_enemy = np.load(WEIGHT_PREDICT_ENEMYPOS_DIR+\"conv1_kernel.npy\")\n",
    "weights_new = np.zeros_like(weights_suicide)\n",
    "weights_new[:,:,:,:16] = weights_suicide[:,:,:,:16]\n",
    "weights_new[:,:,:,16:] = weights_enemy[:,:,:,:16]\n",
    "np.save(\"./weights_merged/conv1_kernel.npy\",weights_new)"
   ]
  },
  {
   "cell_type": "code",
   "execution_count": null,
   "metadata": {},
   "outputs": [],
   "source": [
    "weights_suicide = np.load(WEIGHT_PREDICT_RISKSUICIDE_DIR+\"conv1_bias.npy\")\n",
    "weights_enemy = np.load(WEIGHT_PREDICT_ENEMYPOS_DIR+\"conv1_bias.npy\")\n",
    "weights_new = np.zeros_like(weights_suicide)\n",
    "weights_new[:16] = weights_suicide[:16]\n",
    "weights_new[16:] = weights_enemy[:16]\n",
    "np.save(\"./weights_merged/conv1_bias.npy\",weights_new)"
   ]
  },
  {
   "cell_type": "code",
   "execution_count": null,
   "metadata": {},
   "outputs": [],
   "source": [
    "weights_suicide = np.load(WEIGHT_PREDICT_RISKSUICIDE_DIR+\"conv2_kernel.npy\")\n",
    "weights_enemy = np.load(WEIGHT_PREDICT_ENEMYPOS_DIR+\"conv2_kernel.npy\")\n",
    "weights_new = np.zeros_like(weights_suicide)\n",
    "weights_new[:,:,:,:16] = weights_suicide[:,:,:,:16]\n",
    "weights_new[:,:,:,16:] = weights_enemy[:,:,:,:16]\n",
    "np.save(\"./weights_merged/conv2_kernel.npy\",weights_new)"
   ]
  },
  {
   "cell_type": "code",
   "execution_count": null,
   "metadata": {},
   "outputs": [],
   "source": [
    "weights_suicide = np.load(WEIGHT_PREDICT_RISKSUICIDE_DIR+\"conv2_bias.npy\")\n",
    "weights_enemy = np.load(WEIGHT_PREDICT_ENEMYPOS_DIR+\"conv2_bias.npy\")\n",
    "weights_new = np.zeros_like(weights_suicide)\n",
    "weights_new[:16] = weights_suicide[:16]\n",
    "weights_new[16:] = weights_enemy[:16]\n",
    "np.save(\"./weights_merged/conv2_bias.npy\",weights_new)"
   ]
  }
 ],
 "metadata": {
  "kernelspec": {
   "display_name": "Python 3",
   "language": "python",
   "name": "python3"
  },
  "language_info": {
   "codemirror_mode": {
    "name": "ipython",
    "version": 3
   },
   "file_extension": ".py",
   "mimetype": "text/x-python",
   "name": "python",
   "nbconvert_exporter": "python",
   "pygments_lexer": "ipython3",
   "version": "3.5.2"
  }
 },
 "nbformat": 4,
 "nbformat_minor": 2
}
