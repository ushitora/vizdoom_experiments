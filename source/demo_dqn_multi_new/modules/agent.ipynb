{
 "cells": [
  {
   "cell_type": "code",
   "execution_count": null,
   "metadata": {},
   "outputs": [],
   "source": [
    "from vizdoom import *\n",
    "import os, time, random, threading, h5py, math,pickle, sys\n",
    "import tensorflow as tf\n",
    "import numpy as np"
   ]
  },
  {
   "cell_type": "code",
   "execution_count": null,
   "metadata": {},
   "outputs": [],
   "source": [
    "class Agent(object):\n",
    "    \n",
    "    def __init__(self, network,random_seed, parameters):\n",
    "        self.network = network\n",
    "        self.randomstate = np.random.RandomState(random_seed)\n",
    "        self.parameters = parameters\n",
    "        \n",
    "    def calc_eps(self, progress):\n",
    "        if progress < 0.2:\n",
    "            return self.parameters.eps_min\n",
    "        elif progress >= 0.2 and progress < 0.8:\n",
    "            return (( self.parameters.eps_max - self.parameters.eps_min)/ 0.6) * progress + ( self.parameters.eps_min -  (self.parameters.eps_max - self.parameters.eps_min)/ 0.6 * 0.2)\n",
    "        else :\n",
    "            return self.parameters.eps_max\n",
    "\n",
    "    def act_eps_greedy(self, sess, s1, progress):\n",
    "        assert progress >= 0.0 and progress <=1.0\n",
    "        \n",
    "        eps = self.calc_eps(progress)\n",
    "        if self.randomstate.rand() <= eps:\n",
    "            a_idx = self.randomstate.choice(range(self.parameters.n_agent_action), p=self.network.get_policy(sess,[s1])[0])\n",
    "#             a_idx = self.network.get_best_action(sess, [s1])[0]\n",
    "        else:\n",
    "            a_idx = self.randomstate.randint(self.parameters.n_agent_action)\n",
    "            \n",
    "        return a_idx\n",
    "    \n",
    "    def act_greedy(self, sess, s1):\n",
    "        a_idx = self.randomstate.choice(range(self.parameters.n_agent_action), p=self.network.get_policy(sess,[s1])[0])\n",
    "#         a_idx = self.network.get_best_action(sess, [s1])[0]\n",
    "        return a_idx\n",
    "    \n",
    "    def get_sum_prob(self,sess, s1):\n",
    "        q_value = self.network.get_qvalue_learning(sess, [s1])[0]\n",
    "        q_value = np.maximum(q_value,0) + 0.01\n",
    "        q_prob = (q_value)/sum(q_value)\n",
    "        a_idx = np.random.choice(self.parameters.n_agent_action, p=q_prob)\n",
    "        return a_idx"
   ]
  }
 ],
 "metadata": {
  "kernelspec": {
   "display_name": "Python 3",
   "language": "python",
   "name": "python3"
  },
  "language_info": {
   "codemirror_mode": {
    "name": "ipython",
    "version": 3
   },
   "file_extension": ".py",
   "mimetype": "text/x-python",
   "name": "python",
   "nbconvert_exporter": "python",
   "pygments_lexer": "ipython3",
   "version": "3.5.2"
  }
 },
 "nbformat": 4,
 "nbformat_minor": 2
}
